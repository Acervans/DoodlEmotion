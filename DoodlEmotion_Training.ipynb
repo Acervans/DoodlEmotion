{
 "cells": [
  {
   "cell_type": "code",
   "execution_count": 143,
   "metadata": {},
   "outputs": [],
   "source": [
    "# Importing all necessary libraries\n",
    "from keras.preprocessing.image import ImageDataGenerator\n",
    "from keras.models import Sequential\n",
    "from keras.layers import Conv2D, MaxPooling2D\n",
    "from keras.layers import Activation, Dropout, Flatten, Dense, BatchNormalization\n",
    "from keras.regularizers import l2\n",
    "from keras.optimizers import Adam\n",
    "from keras.callbacks import ReduceLROnPlateau, EarlyStopping\n",
    "from keras import backend as K\n",
    "\n",
    "import numpy as np\n",
    "\n",
    "img_width, img_height = 250, 250\n",
    "test_size = 1/6"
   ]
  },
  {
   "cell_type": "code",
   "execution_count": 108,
   "metadata": {},
   "outputs": [
    {
     "name": "stdout",
     "output_type": "stream",
     "text": [
      "[PhysicalDevice(name='/physical_device:GPU:0', device_type='GPU')]\n"
     ]
    }
   ],
   "source": [
    "import tensorflow as tf\n",
    "print(tf.config.list_physical_devices('GPU'))\n"
   ]
  },
  {
   "cell_type": "code",
   "execution_count": 109,
   "metadata": {},
   "outputs": [],
   "source": [
    "import shutil\n",
    "import os\n",
    "from sklearn.model_selection import train_test_split\n",
    "\n",
    "emotion_folders = ['angry', 'disgusted', 'evil', 'fearful', 'happy', 'sad', 'surprised']\n",
    "\n",
    "# Erase and create train/test folders\n",
    "shutil.rmtree('Train')\n",
    "shutil.rmtree('Test')\n",
    "os.mkdir('Train')\n",
    "os.mkdir('Test')\n",
    "\n",
    "# Generate random train and test splits\n",
    "for ef in emotion_folders:\n",
    "    os.mkdir(f'Train/{ef}')\n",
    "    os.mkdir(f'Test/{ef}')\n",
    "\n",
    "    train_imgs, test_imgs = train_test_split(range(1, 7), test_size=test_size)\n",
    "    for train in train_imgs:\n",
    "        shutil.copyfile(f'Doodles/{ef}/{train}.png', f'Train/{ef}/{train}.png')\n",
    "    for test in test_imgs:\n",
    "        shutil.copyfile(f'Doodles/{ef}/{test}.png', f'Test/{ef}/{test}.png')\n"
   ]
  },
  {
   "cell_type": "code",
   "execution_count": 138,
   "metadata": {},
   "outputs": [],
   "source": [
    "train_data_dir = 'Train/'\n",
    "validation_data_dir = 'Test/'\n",
    "nb_train_samples = round(42 * (1-test_size))\n",
    "nb_validation_samples = round(42 * test_size)\n",
    "epochs = 50\n",
    "batch_size = 4\n"
   ]
  },
  {
   "cell_type": "code",
   "execution_count": 139,
   "metadata": {},
   "outputs": [],
   "source": [
    "if K.image_data_format() == 'channels_first':\n",
    "\tinput_shape = (3, img_width, img_height)\n",
    "else:\n",
    "\tinput_shape = (img_width, img_height, 3)\n"
   ]
  },
  {
   "cell_type": "code",
   "execution_count": 140,
   "metadata": {},
   "outputs": [],
   "source": [
    "# Creating a Sequential model\n",
    "model = Sequential([\n",
    "    Conv2D(filters=128, kernel_size=(5, 5), padding='valid', input_shape=(img_width, img_height, 3)),\n",
    "    Activation('relu'),\n",
    "    MaxPooling2D(pool_size=(2, 2)),\n",
    "    BatchNormalization(),\n",
    "    \n",
    "    Conv2D(filters=64, kernel_size=(3, 3), padding='valid', kernel_regularizer=l2(0.00005)),\n",
    "    Activation('relu'),\n",
    "    MaxPooling2D(pool_size=(2, 2)),\n",
    "    BatchNormalization(),\n",
    "    \n",
    "    Conv2D(filters=32, kernel_size=(3, 3), padding='valid', kernel_regularizer=l2(0.00005)),\n",
    "    Activation('relu'),\n",
    "    MaxPooling2D(pool_size=(2, 2)),\n",
    "    BatchNormalization(),\n",
    "    \n",
    "    Flatten(),\n",
    "    \n",
    "    Dense(units=256, activation='relu'),\n",
    "    Dropout(0.5),\n",
    "    Dense(units=7, activation='softmax')\n",
    "])"
   ]
  },
  {
   "cell_type": "code",
   "execution_count": 141,
   "metadata": {},
   "outputs": [],
   "source": [
    "model.compile(loss='categorical_crossentropy',\n",
    "\t\t\toptimizer=Adam(learning_rate=0.001),\n",
    "\t\t\tmetrics=['accuracy'])\n"
   ]
  },
  {
   "cell_type": "code",
   "execution_count": 159,
   "metadata": {},
   "outputs": [
    {
     "name": "stdout",
     "output_type": "stream",
     "text": [
      "Found 35 images belonging to 7 classes.\n",
      "Found 7 images belonging to 7 classes.\n",
      "Epoch 1/50\n",
      "8/8 [==============================] - 1s 93ms/step - loss: 1.5262 - accuracy: 0.7097 - val_loss: 6.3138 - val_accuracy: 0.0000e+00 - lr: 3.1623e-06\n",
      "Epoch 2/50\n",
      "8/8 [==============================] - 1s 79ms/step - loss: 1.5096 - accuracy: 0.6774 - val_loss: 4.9048 - val_accuracy: 0.2500 - lr: 3.1623e-06\n",
      "Epoch 3/50\n",
      "8/8 [==============================] - 1s 78ms/step - loss: 1.1194 - accuracy: 0.7742 - val_loss: 7.9316 - val_accuracy: 0.0000e+00 - lr: 3.1623e-06\n",
      "Epoch 4/50\n",
      "8/8 [==============================] - 1s 85ms/step - loss: 1.7197 - accuracy: 0.6774 - val_loss: 7.7881 - val_accuracy: 0.0000e+00 - lr: 3.1623e-06\n",
      "Epoch 5/50\n",
      "8/8 [==============================] - 1s 80ms/step - loss: 1.8728 - accuracy: 0.7097 - val_loss: 8.5882 - val_accuracy: 0.2500 - lr: 3.1623e-06\n",
      "Epoch 6/50\n",
      "8/8 [==============================] - 1s 76ms/step - loss: 1.8080 - accuracy: 0.6452 - val_loss: 5.9374 - val_accuracy: 0.2500 - lr: 3.1623e-06\n",
      "Epoch 7/50\n",
      "8/8 [==============================] - 1s 86ms/step - loss: 1.8211 - accuracy: 0.8065 - val_loss: 8.7740 - val_accuracy: 0.0000e+00 - lr: 3.1623e-06\n",
      "Epoch 8/50\n",
      "8/8 [==============================] - 1s 83ms/step - loss: 0.7830 - accuracy: 0.7419 - val_loss: 6.1849 - val_accuracy: 0.2500 - lr: 1.0000e-06\n",
      "Epoch 9/50\n",
      "8/8 [==============================] - 1s 80ms/step - loss: 1.6046 - accuracy: 0.6875 - val_loss: 7.3499 - val_accuracy: 0.2500 - lr: 1.0000e-06\n",
      "Epoch 10/50\n",
      "8/8 [==============================] - 1s 79ms/step - loss: 2.0127 - accuracy: 0.7097 - val_loss: 4.4324 - val_accuracy: 0.2500 - lr: 1.0000e-06\n",
      "Epoch 11/50\n",
      "8/8 [==============================] - 1s 77ms/step - loss: 0.3918 - accuracy: 0.7742 - val_loss: 5.0958 - val_accuracy: 0.2500 - lr: 1.0000e-06\n",
      "Epoch 12/50\n",
      "8/8 [==============================] - 1s 82ms/step - loss: 1.1277 - accuracy: 0.7500 - val_loss: 7.0320 - val_accuracy: 0.2500 - lr: 1.0000e-06\n",
      "Epoch 13/50\n",
      "8/8 [==============================] - 1s 81ms/step - loss: 1.6782 - accuracy: 0.5806 - val_loss: 5.9556 - val_accuracy: 0.2500 - lr: 1.0000e-06\n",
      "Epoch 14/50\n",
      "8/8 [==============================] - 1s 77ms/step - loss: 1.1584 - accuracy: 0.7742 - val_loss: 7.1636 - val_accuracy: 0.2500 - lr: 1.0000e-06\n",
      "Epoch 15/50\n",
      "8/8 [==============================] - 1s 78ms/step - loss: 1.8066 - accuracy: 0.6774 - val_loss: 7.3301 - val_accuracy: 0.2500 - lr: 1.0000e-06\n",
      "Epoch 16/50\n",
      "8/8 [==============================] - 1s 79ms/step - loss: 1.4498 - accuracy: 0.5938 - val_loss: 5.4596 - val_accuracy: 0.0000e+00 - lr: 3.1623e-07\n",
      "Epoch 17/50\n",
      "8/8 [==============================] - 1s 83ms/step - loss: 1.2929 - accuracy: 0.7419 - val_loss: 9.4788 - val_accuracy: 0.0000e+00 - lr: 3.1623e-07\n",
      "Epoch 18/50\n",
      "8/8 [==============================] - 1s 85ms/step - loss: 1.2037 - accuracy: 0.7188 - val_loss: 8.3201 - val_accuracy: 0.0000e+00 - lr: 3.1623e-07\n",
      "Epoch 19/50\n",
      "8/8 [==============================] - 1s 89ms/step - loss: 1.3036 - accuracy: 0.7097 - val_loss: 4.2968 - val_accuracy: 0.2500 - lr: 3.1623e-07\n",
      "Epoch 20/50\n",
      "8/8 [==============================] - 1s 81ms/step - loss: 0.6481 - accuracy: 0.7500 - val_loss: 6.5913 - val_accuracy: 0.0000e+00 - lr: 3.1623e-07\n",
      "Epoch 21/50\n",
      "8/8 [==============================] - 1s 81ms/step - loss: 0.4828 - accuracy: 0.9032 - val_loss: 5.5245 - val_accuracy: 0.2500 - lr: 3.1623e-07\n",
      "Epoch 22/50\n",
      "8/8 [==============================] - 1s 78ms/step - loss: 1.1129 - accuracy: 0.7419 - val_loss: 4.9503 - val_accuracy: 0.2500 - lr: 3.1623e-07\n",
      "Epoch 23/50\n",
      "8/8 [==============================] - 1s 79ms/step - loss: 0.8885 - accuracy: 0.7742 - val_loss: 6.4258 - val_accuracy: 0.0000e+00 - lr: 3.1623e-07\n",
      "Epoch 24/50\n",
      "8/8 [==============================] - 1s 78ms/step - loss: 1.3288 - accuracy: 0.7742 - val_loss: 4.8973 - val_accuracy: 0.2500 - lr: 3.1623e-07\n",
      "Epoch 25/50\n",
      "8/8 [==============================] - 1s 78ms/step - loss: 0.7022 - accuracy: 0.8387 - val_loss: 4.5911 - val_accuracy: 0.2500 - lr: 1.0000e-07\n",
      "Epoch 26/50\n",
      "8/8 [==============================] - 1s 78ms/step - loss: 1.2719 - accuracy: 0.6774 - val_loss: 5.1778 - val_accuracy: 0.0000e+00 - lr: 1.0000e-07\n",
      "Epoch 27/50\n",
      "8/8 [==============================] - 1s 81ms/step - loss: 1.7847 - accuracy: 0.6452 - val_loss: 2.3337 - val_accuracy: 0.5000 - lr: 1.0000e-07\n",
      "Epoch 28/50\n",
      "8/8 [==============================] - 1s 88ms/step - loss: 1.3664 - accuracy: 0.6452 - val_loss: 3.0983 - val_accuracy: 0.5000 - lr: 1.0000e-07\n",
      "Epoch 29/50\n",
      "8/8 [==============================] - 1s 81ms/step - loss: 1.1150 - accuracy: 0.7097 - val_loss: 4.0624 - val_accuracy: 0.2500 - lr: 1.0000e-07\n",
      "Epoch 30/50\n",
      "8/8 [==============================] - 1s 83ms/step - loss: 1.1223 - accuracy: 0.7419 - val_loss: 3.0067 - val_accuracy: 0.2500 - lr: 1.0000e-07\n",
      "Epoch 31/50\n",
      "8/8 [==============================] - 1s 88ms/step - loss: 0.8796 - accuracy: 0.8065 - val_loss: 2.9020 - val_accuracy: 0.2500 - lr: 1.0000e-07\n",
      "Epoch 32/50\n",
      "8/8 [==============================] - 1s 83ms/step - loss: 1.6176 - accuracy: 0.7097 - val_loss: 2.3996 - val_accuracy: 0.2500 - lr: 1.0000e-07\n",
      "Epoch 33/50\n",
      "8/8 [==============================] - 1s 87ms/step - loss: 0.6958 - accuracy: 0.8387 - val_loss: 0.7195 - val_accuracy: 0.5000 - lr: 3.1623e-08\n",
      "Epoch 34/50\n",
      "8/8 [==============================] - 1s 80ms/step - loss: 0.7405 - accuracy: 0.8065 - val_loss: 2.0925 - val_accuracy: 0.0000e+00 - lr: 3.1623e-08\n",
      "Epoch 35/50\n",
      "8/8 [==============================] - 1s 81ms/step - loss: 0.9014 - accuracy: 0.7419 - val_loss: 2.3841 - val_accuracy: 0.2500 - lr: 3.1623e-08\n",
      "Epoch 36/50\n",
      "8/8 [==============================] - 1s 78ms/step - loss: 1.7604 - accuracy: 0.7419 - val_loss: 1.5779 - val_accuracy: 0.5000 - lr: 3.1623e-08\n",
      "Epoch 37/50\n",
      "8/8 [==============================] - 1s 78ms/step - loss: 1.0382 - accuracy: 0.7742 - val_loss: 0.8746 - val_accuracy: 0.7500 - lr: 3.1623e-08\n",
      "Epoch 38/50\n",
      "8/8 [==============================] - 1s 79ms/step - loss: 1.1586 - accuracy: 0.7742 - val_loss: 1.9682 - val_accuracy: 0.2500 - lr: 3.1623e-08\n",
      "Epoch 39/50\n",
      "8/8 [==============================] - 1s 77ms/step - loss: 1.4942 - accuracy: 0.5484 - val_loss: 1.3783 - val_accuracy: 0.5000 - lr: 1.0000e-08\n",
      "Epoch 40/50\n",
      "8/8 [==============================] - 1s 79ms/step - loss: 0.9004 - accuracy: 0.8065 - val_loss: 0.9282 - val_accuracy: 0.7500 - lr: 1.0000e-08\n",
      "Epoch 41/50\n",
      "8/8 [==============================] - 1s 80ms/step - loss: 1.6880 - accuracy: 0.6774 - val_loss: 1.2444 - val_accuracy: 0.2500 - lr: 1.0000e-08\n",
      "Epoch 42/50\n",
      "8/8 [==============================] - 1s 84ms/step - loss: 0.6795 - accuracy: 0.8387 - val_loss: 0.6727 - val_accuracy: 0.5000 - lr: 1.0000e-08\n",
      "Epoch 43/50\n",
      "8/8 [==============================] - 1s 88ms/step - loss: 1.0460 - accuracy: 0.8065 - val_loss: 0.3219 - val_accuracy: 0.7500 - lr: 1.0000e-08\n",
      "Epoch 44/50\n",
      "8/8 [==============================] - 1s 81ms/step - loss: 0.6333 - accuracy: 0.8065 - val_loss: 0.6141 - val_accuracy: 0.5000 - lr: 1.0000e-08\n",
      "Epoch 45/50\n",
      "8/8 [==============================] - 1s 85ms/step - loss: 1.1092 - accuracy: 0.7188 - val_loss: 0.4478 - val_accuracy: 0.7500 - lr: 1.0000e-08\n",
      "Epoch 46/50\n",
      "8/8 [==============================] - 1s 82ms/step - loss: 1.2409 - accuracy: 0.6452 - val_loss: 0.2830 - val_accuracy: 1.0000 - lr: 1.0000e-08\n",
      "Epoch 47/50\n",
      "8/8 [==============================] - 1s 81ms/step - loss: 1.1323 - accuracy: 0.6452 - val_loss: 0.5871 - val_accuracy: 0.7500 - lr: 1.0000e-08\n",
      "Epoch 48/50\n",
      "8/8 [==============================] - 1s 79ms/step - loss: 1.0248 - accuracy: 0.7742 - val_loss: 0.8183 - val_accuracy: 0.5000 - lr: 1.0000e-08\n",
      "Epoch 49/50\n",
      "8/8 [==============================] - 1s 77ms/step - loss: 1.5702 - accuracy: 0.7419 - val_loss: 0.5067 - val_accuracy: 0.7500 - lr: 1.0000e-08\n",
      "Epoch 50/50\n",
      "8/8 [==============================] - 1s 81ms/step - loss: 1.3509 - accuracy: 0.7419 - val_loss: 0.3793 - val_accuracy: 1.0000 - lr: 1.0000e-08\n"
     ]
    }
   ],
   "source": [
    "train_datagen = ImageDataGenerator(\n",
    "    rescale=1. / 255,\n",
    "    shear_range=0.2,\n",
    "    zoom_range=0.2,\n",
    "    horizontal_flip=True)\n",
    "\n",
    "test_datagen = ImageDataGenerator(rescale=1. / 255)\n",
    "\n",
    "train_generator = train_datagen.flow_from_directory(\n",
    "    train_data_dir,\n",
    "    target_size=(img_width, img_height),\n",
    "    batch_size=batch_size,\n",
    "    class_mode='categorical')\n",
    "\n",
    "validation_generator = test_datagen.flow_from_directory(\n",
    "    validation_data_dir,\n",
    "    target_size=(img_width, img_height),\n",
    "    batch_size=batch_size,\n",
    "    class_mode='categorical')\n",
    "\n",
    "history = model.fit(\n",
    "    train_generator,\n",
    "    steps_per_epoch=nb_train_samples // batch_size,\n",
    "    epochs=epochs,\n",
    "    validation_data=validation_generator,\n",
    "    validation_steps=nb_validation_samples // batch_size,\n",
    "    callbacks=[\n",
    "        ReduceLROnPlateau(\n",
    "            monitor='val_loss',\n",
    "            factor=np.sqrt(0.1),\n",
    "            patience=5\n",
    "        ),\n",
    "        EarlyStopping(\n",
    "            monitor=\"val_loss\",\n",
    "            min_delta=0,\n",
    "            patience=10,\n",
    "            verbose=0,\n",
    "            mode=\"auto\",\n",
    "            baseline=None,\n",
    "            restore_best_weights=True,\n",
    "            start_from_epoch=30,\n",
    "        )]\n",
    ")"
   ]
  },
  {
   "cell_type": "code",
   "execution_count": 162,
   "metadata": {},
   "outputs": [
    {
     "data": {
      "image/png": "[encoded data removed]",
      "text/plain": [
       "<Figure size 640x480 with 1 Axes>"
      ]
     },
     "metadata": {},
     "output_type": "display_data"
    }
   ],
   "source": [
    "import matplotlib.pyplot as plt\n",
    "\n",
    "# summarize history for accuracy\n",
    "plt.plot(history.history['accuracy'])\n",
    "plt.plot(history.history['val_accuracy'])\n",
    "plt.title('model accuracy')\n",
    "plt.ylabel('accuracy')\n",
    "plt.xlabel('epoch')\n",
    "plt.legend(['train', 'test'], loc='upper left')\n",
    "plt.show()"
   ]
  },
  {
   "cell_type": "code",
   "execution_count": 161,
   "metadata": {},
   "outputs": [],
   "source": [
    "model.save('doodlemotion_model.keras')"
   ]
  }
 ],
 "metadata": {
  "kernelspec": {
   "display_name": "Python 3",
   "language": "python",
   "name": "python3"
  },
  "language_info": {
   "codemirror_mode": {
    "name": "ipython",
    "version": 3
   },
   "file_extension": ".py",
   "mimetype": "text/x-python",
   "name": "python",
   "nbconvert_exporter": "python",
   "pygments_lexer": "ipython3",
   "version": "3.9.18"
  }
 },
 "nbformat": 4,
 "nbformat_minor": 2
}
